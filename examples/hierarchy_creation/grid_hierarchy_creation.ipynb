{
 "cells": [
  {
   "cell_type": "code",
   "execution_count": 2,
   "metadata": {},
   "outputs": [
    {
     "name": "stderr",
     "output_type": "stream",
     "text": [
      "\u001b[32m\u001b[1m  Activating\u001b[22m\u001b[39m project at `~/.julia/environments/mergeSplit`\n",
      "\u001b[32m\u001b[1m   Resolving\u001b[22m\u001b[39m package versions...\n",
      "\u001b[32m\u001b[1m  No Changes\u001b[22m\u001b[39m to `~/.julia/environments/mergeSplit/Project.toml`\n",
      "\u001b[32m\u001b[1m  No Changes\u001b[22m\u001b[39m to `~/.julia/environments/mergeSplit/Manifest.toml`\n"
     ]
    }
   ],
   "source": [
    "import Pkg\n",
    "codepath = joinpath(\"../../\") \n",
    "Pkg.activate(\"mergeSplit\"; shared=true)\n",
    "\n",
    "using Revise\n",
    "using RandomNumbers\n",
    "using Random\n",
    "using MultiScaleMapSampler\n",
    "using Test\n",
    "using JSON \n",
    "using CSV \n",
    "\n",
    "Pkg.develop(path=codepath)\n"
   ]
  },
  {
   "cell_type": "markdown",
   "metadata": {},
   "source": [
    "## Load files and graphs"
   ]
  },
  {
   "cell_type": "code",
   "execution_count": 3,
   "metadata": {},
   "outputs": [],
   "source": [
    "G_json = joinpath(\"..\",\"test_graphs\", \"16x16pct.json\") # the base graph json must have 1-indexed nodes and edges. \n",
    "G_node_data = Set([\"county\", \"pct\", \"pop\", \"area\", \"border_length\", \"id\"])\n",
    "G_base_graph = BaseGraph(G_json, \"pop\", inc_node_data=G_node_data,\n",
    "\tarea_col=\"area\",node_border_col=\"border_length\", edge_perimeter_col=\"length\")\n",
    "\n",
    "for k in G_base_graph.node_attributes \n",
    "\tk[\"county_and_pct\"] = string(k[\"county\"], \",\",k[\"pct\"])\n",
    "end \n",
    "\n",
    "G = MultiLevelGraph(G_base_graph, [\"county_and_pct\"]);\n",
    "oriented_nbrs = JSON.parsefile(\"../test_graphs/16x16pct_oriented_nbrs.json\")\n",
    "oriented_nbrs = Dict{GlobalID, Vector{GlobalID}}([parse(Int, k) => v for (k,v) in oriented_nbrs]);"
   ]
  },
  {
   "cell_type": "markdown",
   "metadata": {},
   "source": [
    "## Generate hierarchy"
   ]
  },
  {
   "cell_type": "code",
   "execution_count": 5,
   "metadata": {},
   "outputs": [
    {
     "name": "stdout",
     "output_type": "stream",
     "text": [
      "ideal_nodes_per_level = [256, 215, 180, 142, 100, 70, 49, 34, 24]\n",
      "n_by_level = [41, 35, 38, 42, 30, 21, 15, 10]\n",
      "(i, length(finest_level_nodes(Gs[end]))) = (1, 256)\n",
      "(i, length(finest_level_nodes(Gs[end]))) = (2, 215)\n",
      "(i, length(finest_level_nodes(Gs[end]))) = (3, 180)\n",
      "(i, length(finest_level_nodes(Gs[end]))) = (4, 142)\n",
      "(i, length(finest_level_nodes(Gs[end]))) = (5, 100)\n",
      "(i, length(finest_level_nodes(Gs[end]))) = (6, 70)\n",
      "(i, length(finest_level_nodes(Gs[end]))) = (7, 49)\n",
      "(i, length(finest_level_nodes(Gs[end]))) = (8, 34)\n",
      "length(finest_level_nodes(Gs[end])) = 24\n"
     ]
    },
    {
     "data": {
      "text/plain": [
       "24"
      ]
     },
     "metadata": {},
     "output_type": "display_data"
    }
   ],
   "source": [
    "rng = PCG.PCGStateOneseq(UInt64, 15160)\n",
    "hierarchy_dir = \"../test_graphs/4x4TH_2/tempered_hierarchy_\"\n",
    "TH = TemperingHierarchy(G, oriented_nbrs, hierarchy_dir)\n",
    "Gs = TH.graphs_by_level;\n",
    "\n",
    "p1s, p2s, cs = [], [], [] #these are just for logging the different factors considered when creating the hierarchy (e.g. compactness, population)\n",
    "\n",
    "n_levels = 9\n",
    "pop_weight1s = [1 for _=1:n_levels]\n",
    "iso_weights = [0.5 for _=1:n_levels]\n",
    "amt = [2 for _=1:10]\n",
    "ideal_nodes_per_level = [16*16]\n",
    "for i=1:n_levels #in this example, we halve the number of nodes every 2 levels, so a sqrt(2) factor each time we go up a level\n",
    "    push!(ideal_nodes_per_level, trunc(Int, ideal_nodes_per_level[end] * 2.0^(-1/(amt[i]))))\n",
    "end\n",
    "n_by_level = [ideal_nodes_per_level[i] - ideal_nodes_per_level[i+1] for i=1:n_levels]\n",
    "totalpop = get_node_population(Gs[1], Gs[1].root.global_ID)\n",
    "\n",
    "for i = 1:n_levels\n",
    "    @show i, length(finest_level_nodes(Gs[end]))\n",
    "    n_to_merge = length(finest_level_nodes(Gs[end])) > 2*n_by_level[i] ? n_by_level[i] : length(finest_level_nodes(Gs[end]))/2\n",
    "    matching = generate_level(TH.graphs_by_level[end], n_to_merge, TH.onbrs_by_level[end], p1s, p2s, cs, pop_weight1s[i], iso_weights[i])\n",
    "    add_level!(TH, matching) \n",
    "end\n",
    "@show length(finest_level_nodes(Gs[end]))\n"
   ]
  }
 ],
 "metadata": {
  "kernelspec": {
   "display_name": "Julia 1.11.2",
   "language": "julia",
   "name": "julia-1.11"
  },
  "language_info": {
   "file_extension": ".jl",
   "mimetype": "application/julia",
   "name": "julia",
   "version": "1.11.2"
  }
 },
 "nbformat": 4,
 "nbformat_minor": 2
}
